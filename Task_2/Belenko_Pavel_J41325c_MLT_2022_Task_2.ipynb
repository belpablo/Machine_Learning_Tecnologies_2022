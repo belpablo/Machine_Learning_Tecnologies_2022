{
 "cells": [
  {
   "cell_type": "markdown",
   "id": "8b283eb4",
   "metadata": {},
   "source": [
    "# Task №2:\n",
    "\n",
    "1) Develop yourself using numpy library: \n",
    "\n",
    "    a) a function to implement gradient descent (GD) algorithm \n",
    "    b) Adam's optimization algorithm for a function of two variables f(x,y).\n",
    "\n",
    "2) Come up with a function of two variables of an arbitrary form and implement the search for its minimum using functions implemented in p.1\n",
    "\n",
    "3) Illustrate the process of finding an extremum in the form of a graph of the dependence of the value of the difference between two successive approximations of the solution (x_next – x_prev) on the iteration number N.\n"
   ]
  },
  {
   "cell_type": "code",
   "execution_count": 2,
   "id": "d3eb96dd",
   "metadata": {},
   "outputs": [],
   "source": [
    "#Importing neccesary libraries\n",
    "\n",
    "import numpy as np\n",
    "import matplotlib.pyplot as plt\n",
    "from scipy.optimize import minimize_scalar"
   ]
  },
  {
   "cell_type": "code",
   "execution_count": null,
   "id": "10019baf",
   "metadata": {},
   "outputs": [],
   "source": []
  }
 ],
 "metadata": {
  "kernelspec": {
   "display_name": "Python 3",
   "language": "python",
   "name": "python3"
  },
  "language_info": {
   "codemirror_mode": {
    "name": "ipython",
    "version": 3
   },
   "file_extension": ".py",
   "mimetype": "text/x-python",
   "name": "python",
   "nbconvert_exporter": "python",
   "pygments_lexer": "ipython3",
   "version": "3.8.8"
  }
 },
 "nbformat": 4,
 "nbformat_minor": 5
}
