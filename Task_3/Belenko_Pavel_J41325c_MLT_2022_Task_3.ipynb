{
 "cells": [
  {
   "cell_type": "markdown",
   "metadata": {
    "id": "JRl66UzjYVlq"
   },
   "source": [
    "# Logistic Regression as a Neural Network \n",
    "(partly following deeplearning.ai lab)\n",
    "\n",
    "    - Initializing parameters\n",
    "    - Calculating the cost function and its gradient\n",
    "    - Using an optimization algorithm (gradient descent) \n"
   ]
  },
  {
   "cell_type": "code",
   "execution_count": 65,
   "metadata": {
    "id": "MlSzJZcyYVlv"
   },
   "outputs": [],
   "source": [
    "import numpy as np\n",
    "import matplotlib.pyplot as plt\n",
    "import scipy\n",
    "%matplotlib inline"
   ]
  },
  {
   "cell_type": "markdown",
   "metadata": {
    "id": "BixMxtmYYVlw"
   },
   "source": [
    "## General Architecture of the algorithm ##\n",
    "\n",
    "\n",
    "Build a Logistic Regression, using a Neural Network mindset.\n",
    "\n",
    "**Logistic Regression is actually a very simple Neural Network!**\n",
    "\n",
    "\n",
    "**Mathematical expression of the algorithm**:\n",
    "\n",
    "For one example $x^{(i)}$:\n",
    "$$z^{(i)} = w^T x^{(i)} + b \\tag{1}$$\n",
    "$$\\hat{y}^{(i)} = a^{(i)} = sigmoid(z^{(i)})\\tag{2}$$ \n",
    "$$ \\mathcal{L}(a^{(i)}, y^{(i)}) =  - y^{(i)}  \\log(a^{(i)}) - (1-y^{(i)} )  \\log(1-a^{(i)})\\tag{3}$$\n",
    "\n",
    "The cost is then computed by summing over all training examples:\n",
    "$$ J = \\frac{1}{m} \\sum_{i=1}^m \\mathcal{L}(a^{(i)}, y^{(i)})$$\n",
    "\n",
    "**Key steps**:\n",
    "    - Initialize the parameters of the model\n",
    "    - Learn the parameters for the model by minimizing the cost  \n",
    "    - Use the learned parameters to make predictions (on the test set)\n",
    "    - Analyse the results and conclude"
   ]
  },
  {
   "cell_type": "markdown",
   "metadata": {
    "id": "1rFmqFwQYVlw"
   },
   "source": [
    "## Parts of our algorithm ## \n",
    "\n",
    "The main steps for building a Neural Network are:\n",
    "1. Define the model structure (such as number of input features, number of layers, number of neurons in the layer etc.) \n",
    "2. Initialize the model's parameters\n",
    "3. Loop:\n",
    "    - Calculate current loss (forward propagation)\n",
    "    - Calculate current gradient (backward propagation)\n",
    "    - Update parameters (gradient descent)\n",
    "\n",
    "Build 1-3 separately and integrate them into one function we call `model()`.\n",
    "\n",
    "### Sigmoid\n",
    "\n",
    "$sigmoid( w^T x + b) = \\frac{1}{1 + e^{-(w^T x + b)}}$ "
   ]
  },
  {
   "cell_type": "code",
   "execution_count": 66,
   "metadata": {
    "id": "q16NvSTkYVlx"
   },
   "outputs": [],
   "source": [
    "# sigmoid\n",
    "\n",
    "def sigmoid(z):\n",
    "    \n",
    "    \"\"\"\n",
    "    Compute the sigmoid of z\n",
    "\n",
    "    Arguments:\n",
    "    z -- A scalar or numpy array of any size.\n",
    "\n",
    "    Return:\n",
    "    s -- sigmoid(z)\n",
    "    \"\"\"\n",
    "    \n",
    "    s = 1. / (1. + np.exp(-z))\n",
    "    \n",
    "    return s"
   ]
  },
  {
   "cell_type": "code",
   "execution_count": 67,
   "metadata": {
    "id": "9It4n0EvYVlx",
    "scrolled": true
   },
   "outputs": [
    {
     "name": "stdout",
     "output_type": "stream",
     "text": [
      "sigmoid([0, 2, 10, -10]) = [0.5        0.88079708 0.11920292 1.        ]\n"
     ]
    }
   ],
   "source": [
    "print (\"sigmoid([0, 2, 10, -10]) = \" + str(sigmoid(np.array([0., 2., -2., 100.]))))"
   ]
  },
  {
   "cell_type": "markdown",
   "metadata": {
    "id": "bpd0wqL7YVlx"
   },
   "source": [
    "### Initializing parameters\n",
    "\n"
   ]
  },
  {
   "cell_type": "code",
   "execution_count": 68,
   "metadata": {
    "id": "nC_xYzTEYVly"
   },
   "outputs": [],
   "source": [
    "# initialize_with_zeros\n",
    "\n",
    "def initialize_with_zeros(dim):\n",
    "    \n",
    "    \"\"\"\n",
    "    This function creates a vector of zeros of shape (dim, 1) for w and initializes b to 0.\n",
    "    \n",
    "    Argument:\n",
    "    dim -- size of the w vector we want (or number of parameters in this case)\n",
    "    \n",
    "    Returns:\n",
    "    w -- initialized vector of shape (dim, 1)\n",
    "    b -- initialized scalar (corresponds to the bias)\n",
    "    \"\"\"\n",
    "    \n",
    "    w = np.zeros((dim, 1))\n",
    "    b = 0.\n",
    "    \n",
    "    return w, b"
   ]
  },
  {
   "cell_type": "code",
   "execution_count": 69,
   "metadata": {
    "id": "tEQyfQAlYVly"
   },
   "outputs": [
    {
     "name": "stdout",
     "output_type": "stream",
     "text": [
      "w = [[0.]\n",
      " [0.]\n",
      " [0.]]\n",
      "b = 0.0\n"
     ]
    }
   ],
   "source": [
    "dim = 3\n",
    "w, b = initialize_with_zeros(dim)\n",
    "print (\"w = \" + str(w))\n",
    "print (\"b = \" + str(b))"
   ]
  },
  {
   "cell_type": "markdown",
   "metadata": {
    "id": "K8qHMDabYVly"
   },
   "source": [
    "### Forward and Backward propagation\n",
    "\n",
    "Implement a function `propagate()` that computes the cost function and its gradient.\n",
    "\n",
    "Forward Propagation:\n",
    "- You get X\n",
    "- You compute $A = \\sigma(w^T X + b) = (a^{(1)}, a^{(2)}, ..., a^{(m-1)}, a^{(m)})$\n",
    "- You calculate the cost function: $J = -\\frac{1}{m}\\sum_{i=1}^{m}y^{(i)}\\log(a^{(i)})+(1-y^{(i)})\\log(1-a^{(i)})$\n",
    "\n",
    "Here are the two formulas we should use: \n",
    "\n",
    "$$ \\frac{\\partial J}{\\partial w} = \\frac{1}{m}X(A-Y)^T$$\n",
    "$$ \\frac{\\partial J}{\\partial b} = \\frac{1}{m} \\sum_{i=1}^m (a^{(i)}-y^{(i)})$$"
   ]
  },
  {
   "cell_type": "code",
   "execution_count": 70,
   "metadata": {
    "id": "RzhXWVi1YVlz"
   },
   "outputs": [],
   "source": [
    "# propagate\n",
    "\n",
    "def propagate(w, b, X, Y):\n",
    "    \n",
    "    \"\"\"\n",
    "    Implement the cost function and its gradient for the propagation explained above\n",
    "\n",
    "    Arguments:\n",
    "    w -- weights, a numpy array of size which equals the number of features\n",
    "    b -- bias, a scalar\n",
    "    X -- data \n",
    "    Y -- true \"label\" vector (containing 0 and 1) of size (1, number of examples)\n",
    "\n",
    "    Return:\n",
    "    cost -- negative log-likelihood cost for logistic regression\n",
    "    dw -- gradient of the loss with respect to w, thus same shape as w\n",
    "    db -- gradient of the loss with respect to b, thus same shape as b\n",
    "    \n",
    "    \"\"\"\n",
    "    \n",
    "    m = X.shape[1]\n",
    "    #print('number of objects = ',len(X))\n",
    "    \n",
    "    # FORWARD PROPAGATION (FROM X TO COST)\n",
    "    A = sigmoid(np.dot(w.T, X) + b)                                                # compute activation\n",
    "    cost = -(1. / m) * np.sum(Y * np.log(A) + (1 - Y) * np.log(1 - A), axis = 1)   # compute cost\n",
    "    \n",
    "    # BACKWARD PROPAGATION (TO FIND GRAD)\n",
    "    dw = (1. / m) * np.dot(X, (A - Y).T)\n",
    "    db = (1. / m) * np.sum(A - Y, axis=1)\n",
    "\n",
    "    grads = {\"dw\": dw,\n",
    "             \"db\": db}\n",
    "    \n",
    "    return grads, cost"
   ]
  },
  {
   "cell_type": "code",
   "execution_count": 71,
   "metadata": {
    "id": "jofXU2o7YVlz"
   },
   "outputs": [
    {
     "name": "stdout",
     "output_type": "stream",
     "text": [
      "dw = [[0.0027004 ]\n",
      " [0.02446984]]\n",
      "db = [0.00151471]\n",
      "cost = [0.00295537]\n"
     ]
    }
   ],
   "source": [
    "w, b, X, Y = np.array([[1.],[-1.]]), 4., np.array([[1.,5.,-1.],[10.,0.,-3.2]]), np.array([[0,1,1]])\n",
    "grads, cost = propagate(w, b, X, Y)\n",
    "print (\"dw = \" + str(grads[\"dw\"]))\n",
    "print (\"db = \" + str(grads[\"db\"]))\n",
    "print (\"cost = \" + str(cost))"
   ]
  },
  {
   "cell_type": "markdown",
   "metadata": {
    "id": "5Rjc-2wuYVlz"
   },
   "source": [
    "### Optimization\n",
    "- We have initialized the parameters.\n",
    "- We are able to compute a cost function and its gradient.\n",
    "- Now, we have to update the parameters using gradient descent.\n",
    "\n",
    "For a parameter $\\theta$, the update rule is $ \\theta = \\theta - \\alpha \\text{ } d\\theta$, where $\\alpha$ is the learning rate."
   ]
  },
  {
   "cell_type": "code",
   "execution_count": 72,
   "metadata": {
    "id": "zI5mo-6fYVl0"
   },
   "outputs": [],
   "source": [
    "# optimize\n",
    "\n",
    "def optimize(w, b, X, Y, num_iterations, learning_rate, print_cost = False):\n",
    "    \n",
    "    \"\"\"\n",
    "    This function optimizes w and b by running a gradient descent algorithm\n",
    "    \n",
    "    Arguments:\n",
    "    w -- weights, a numpy array \n",
    "    b -- bias, a scalar\n",
    "    X -- data \n",
    "    Y -- true \"label\" vector (containing 0 and 1), of shape (1, number of examples)\n",
    "    num_iterations -- number of iterations of the optimization loop\n",
    "    learning_rate -- learning rate of the gradient descent update rule\n",
    "    print_cost -- True to print the loss every 100 steps\n",
    "    \n",
    "    Returns:\n",
    "    params -- dictionary containing the weights w and bias b\n",
    "    grads -- dictionary containing the gradients of the weights and bias with respect to the cost function\n",
    "    costs -- list of all the costs computed during the optimization, this will be used to plot the learning curve.\n",
    "    \n",
    "    \"\"\"\n",
    "    \n",
    "    costs = []\n",
    "    \n",
    "    for i in range(num_iterations):\n",
    "                \n",
    "        # Cost and gradient calculation \n",
    "        grads, cost = propagate(w, b, X, Y)\n",
    "        \n",
    "        # Retrieve derivatives from grads\n",
    "        dw = grads[\"dw\"]\n",
    "        db = grads[\"db\"]\n",
    "        \n",
    "        # update rule\n",
    "        w -= learning_rate * dw\n",
    "        b -= learning_rate * db\n",
    "        \n",
    "        # Record the costs\n",
    "        if i % 100 == 0:\n",
    "            costs.append(cost)\n",
    "        \n",
    "        # Print the cost every 100 training iterations\n",
    "        if print_cost and i % 100 == 0:\n",
    "            print (\"Cost after iteration %i: %f\" %(i, cost))\n",
    "    \n",
    "    params = {\"w\": w,\n",
    "              \"b\": b}\n",
    "    \n",
    "    grads = {\"dw\": dw,\n",
    "             \"db\": db}\n",
    "    \n",
    "    return params, grads, costs"
   ]
  },
  {
   "cell_type": "code",
   "execution_count": 73,
   "metadata": {
    "id": "A_Cw0F1mYVl0"
   },
   "outputs": [
    {
     "name": "stdout",
     "output_type": "stream",
     "text": [
      "Cost after iteration 0: 0.002955\n",
      "Cost after iteration 100: 0.002683\n",
      "Cost after iteration 200: 0.002461\n",
      "Cost after iteration 300: 0.002278\n",
      "Cost after iteration 400: 0.002124\n",
      "Cost after iteration 500: 0.001991\n",
      "Cost after iteration 600: 0.001877\n",
      "Cost after iteration 700: 0.001777\n",
      "Cost after iteration 800: 0.001689\n",
      "Cost after iteration 900: 0.001611\n",
      "w = [[ 0.99092423]\n",
      " [-1.08149946]]\n",
      "b = [3.99591156]\n",
      "dw = [[0.00128065]\n",
      " [0.01144573]]\n",
      "db = [0.00041775]\n"
     ]
    }
   ],
   "source": [
    "params, grads, costs = optimize(w, b, X, Y, num_iterations = 1000, learning_rate = 0.005, print_cost = True)\n",
    "\n",
    "print (\"w = \" + str(params[\"w\"]))\n",
    "print (\"b = \" + str(params[\"b\"]))\n",
    "print (\"dw = \" + str(grads[\"dw\"]))\n",
    "print (\"db = \" + str(grads[\"db\"]))"
   ]
  },
  {
   "cell_type": "markdown",
   "metadata": {
    "id": "WveKLLR6YVl1"
   },
   "source": [
    "Implement the `predict()` function. There are two steps to compute predictions:\n",
    "\n",
    "1. Calculate $\\hat{Y} = A = \\sigma(w^T X + b)$\n",
    "\n",
    "2. Convert the entries of A into 0 (if activation <= 0.5) or 1 (if activation > 0.5), store the predictions in a vector `Y_prediction`. "
   ]
  },
  {
   "cell_type": "code",
   "execution_count": 74,
   "metadata": {
    "id": "Q6p8pd8pYVl1"
   },
   "outputs": [],
   "source": [
    "# predict\n",
    "\n",
    "def predict(w, b, X):\n",
    "    \n",
    "    '''\n",
    "    Predict whether the label is 0 or 1 using learned logistic regression parameters (w, b)\n",
    "    \n",
    "    Arguments:\n",
    "    w -- weights, a numpy array \n",
    "    b -- bias, a scalar\n",
    "    X -- data \n",
    "    \n",
    "    Returns:\n",
    "    Y_prediction -- a numpy array (vector) containing all predictions (0/1) for the examples in X\n",
    "    '''\n",
    "    \n",
    "    m = X.shape[1]\n",
    "    Y_prediction = np.zeros((1, m))\n",
    "    w = w.reshape(X.shape[0], 1)\n",
    "    \n",
    "    # Compute vector \"A\" predicting the probabilities \n",
    "    A = sigmoid(np.dot(w.T, X) + b)\n",
    "    \n",
    "    for i in range(A.shape[1]):\n",
    "        \n",
    "        # Convert probabilities A[0,i] to actual predictions p[0,i]\n",
    "        if (A[0, i] <= 0.5):\n",
    "            Y_prediction[0][i] = 0\n",
    "        else:\n",
    "            Y_prediction[0][i] = 1\n",
    "    \n",
    "    return Y_prediction"
   ]
  },
  {
   "cell_type": "code",
   "execution_count": 75,
   "metadata": {
    "id": "IeFbe51nYVl2"
   },
   "outputs": [
    {
     "name": "stdout",
     "output_type": "stream",
     "text": [
      "predictions = [[1. 1. 0.]]\n"
     ]
    }
   ],
   "source": [
    "w = np.array([[0.1124579],[0.23106775]])\n",
    "b = -0.3\n",
    "X = np.array([[1.,-1.1,-3.2],[1.2,2.,0.1]])\n",
    "print (\"predictions = \" + str(predict(w, b, X)))"
   ]
  },
  {
   "cell_type": "markdown",
   "metadata": {
    "collapsed": true,
    "id": "IzJOsYM2YVl2"
   },
   "source": [
    "\n",
    "Already have:\n",
    "- Initialize (w,b)\n",
    "- Optimize the loss iteratively to learn parameters (w,b):\n",
    "    - computing the cost and its gradient \n",
    "    - updating the parameters using gradient descent\n",
    "- Use the learned (w,b) to predict the labels for a given set of examples"
   ]
  },
  {
   "cell_type": "markdown",
   "metadata": {
    "id": "gIHsdqPgYVl2"
   },
   "source": [
    "## Merge it all into a model ##\n",
    "\n",
    "    - Y_prediction_test for the predictions on the test set\n",
    "    - Y_prediction_train for the predictions on the train set\n",
    "    - w, costs, grads for the outputs of optimize()"
   ]
  },
  {
   "cell_type": "code",
   "execution_count": 76,
   "metadata": {
    "id": "TMVbePtZYVl2"
   },
   "outputs": [],
   "source": [
    "# model\n",
    "\n",
    "def model(X_train, Y_train, X_test, Y_test, num_iterations = 2000, learning_rate = 0.5, print_cost = False):\n",
    "    \n",
    "    \"\"\"\n",
    "    Builds the logistic regression model by calling the function we've implemented previously\n",
    "    \n",
    "    Arguments:\n",
    "    X_train -- training set represented by a numpy array \n",
    "    Y_train -- training labels represented by a numpy array (vector) of shape (1, m_train)\n",
    "    X_test -- test set represented by a numpy array \n",
    "    Y_test -- test labels represented by a numpy array (vector) of shape (1, m_test)\n",
    "    num_iterations -- hyperparameter representing the number of iterations to optimize the parameters\n",
    "    learning_rate -- hyperparameter representing the learning rate used in the update rule of optimize()\n",
    "    print_cost -- Set to true to print the cost every 100 iterations\n",
    "    \n",
    "    Returns:\n",
    "    d -- dictionary containing information about the model.\n",
    "    \"\"\"\n",
    "    \n",
    "    # initialize parameters with zeros \n",
    "    w, b = initialize_with_zeros(X_train.shape[0])\n",
    "\n",
    "    # Gradient descent\n",
    "    parameters, grads, costs = optimize(w, b, X_train, Y_train, num_iterations, learning_rate, print_cost)\n",
    "    \n",
    "    # Retrieve parameters w and b from dictionary \"parameters\"\n",
    "    w = parameters[\"w\"]\n",
    "    b = parameters[\"b\"]\n",
    "    \n",
    "    # Predict test/train set examples\n",
    "    Y_prediction_test = predict(w, b, X_test)\n",
    "    Y_prediction_train = predict(w, b, X_train)\n",
    "\n",
    "    # Print train/test Errors\n",
    "    print(\"train accuracy: {} %\".format(100 - np.mean(np.abs(Y_prediction_train - Y_train)) * 100))\n",
    "    print(\"test accuracy: {} %\".format(100 - np.mean(np.abs(Y_prediction_test - Y_test)) * 100))\n",
    "\n",
    "    d = {\"costs\": costs,\n",
    "         \"Y_prediction_test\": Y_prediction_test, \n",
    "         \"Y_prediction_train\" : Y_prediction_train, \n",
    "         \"w\" : w, \n",
    "         \"b\" : b,\n",
    "         \"learning_rate\" : learning_rate,\n",
    "         \"num_iterations\": num_iterations}\n",
    "    \n",
    "    return d"
   ]
  },
  {
   "cell_type": "markdown",
   "metadata": {},
   "source": [
    "Bibliography:\n",
    "- http://www.wildml.com/2015/09/implementing-a-neural-network-from-scratch/"
   ]
  },
  {
   "cell_type": "markdown",
   "metadata": {
    "id": "SMOjXzwNYVl3"
   },
   "source": [
    "----\n",
    "\n",
    "### My work starts here:\n",
    "\n",
    "### 1.\tThe logistic regression model with GD (already implemented):\n"
   ]
  },
  {
   "cell_type": "code",
   "execution_count": 77,
   "metadata": {},
   "outputs": [],
   "source": [
    "import pandas as pd\n",
    "from sklearn.model_selection import train_test_split\n",
    "\n",
    "df = pd.read_csv('bioresponse.csv')\n",
    "train_set_x, test_set_x, train_set_y, test_set_y = train_test_split(df.drop(columns = 'Activity'), \\\n",
    "                                                                    df['Activity'], test_size = 0.25, random_state = 42)\n",
    "\n",
    "train_set_x = np.asarray(train_set_x).T\n",
    "test_set_x = np.asarray(test_set_x).T\n",
    "train_set_y = np.asarray(train_set_y).T\n",
    "test_set_y = np.asarray(test_set_y).T"
   ]
  },
  {
   "cell_type": "code",
   "execution_count": 78,
   "metadata": {
    "id": "4NWUYiqoYVl3"
   },
   "outputs": [
    {
     "name": "stdout",
     "output_type": "stream",
     "text": [
      "Cost after iteration 0: 0.693147\n",
      "Cost after iteration 100: 0.681095\n",
      "Cost after iteration 200: 0.673994\n",
      "Cost after iteration 300: 0.667662\n",
      "Cost after iteration 400: 0.661794\n",
      "Cost after iteration 500: 0.656314\n",
      "train accuracy: 65.73053679345894 %\n",
      "test accuracy: 68.97654584221749 %\n"
     ]
    }
   ],
   "source": [
    "d_001 = model(train_set_x, train_set_y, test_set_x, test_set_y, num_iterations = 600, learning_rate = 0.001, print_cost = True)"
   ]
  },
  {
   "cell_type": "markdown",
   "metadata": {
    "id": "dz55zNblYVl4"
   },
   "source": [
    "### 2.\tThe logistic regression mpdel using the stochastic gradient descent (SGD) method:"
   ]
  },
  {
   "cell_type": "code",
   "execution_count": 79,
   "metadata": {},
   "outputs": [],
   "source": [
    "def sigmoid(z):\n",
    "    \n",
    "    s = 1. / (1. + np.exp(-z))\n",
    "    \n",
    "    return s\n",
    "\n",
    "def initialize_with_zeros(dim):\n",
    "    \n",
    "    w = np.zeros((dim, 1))\n",
    "    b = 0.\n",
    "    \n",
    "    return w, b\n",
    "\n",
    "def propagate(w, b, X, Y):\n",
    "\n",
    "    m = X.shape[1]\n",
    "\n",
    "    # FORWARD PROPAGATION (FROM X TO COST)\n",
    "    A = sigmoid(np.dot(w.T, X) + b)                                                # compute activation\n",
    "    cost = -(1. / m) * np.sum(Y * np.log(A) + (1 - Y) * np.log(1 - A), axis = 1)   # compute cost\n",
    "\n",
    "    # BACKWARD PROPAGATION (TO FIND GRAD)\n",
    "    dw = (1. / m) * np.dot(X, (A - Y).T)\n",
    "    db = (1. / m) * np.sum(A - Y, axis = 1)\n",
    "\n",
    "    grads = {\"dw\": dw,\n",
    "             \"db\": db}\n",
    "\n",
    "    return grads, cost\n",
    "\n",
    "\n",
    "def SGD_optimize(w, b, X, Y, num_iterations, learning_rate, print_cost = False):\n",
    "    \n",
    "    costs = []\n",
    "\n",
    "    for i in range(num_iterations):\n",
    "\n",
    "        # Cost and gradient calculation\n",
    "        rand = np.random.randint(0, X.shape[1] - 10)\n",
    "        X_sample = X[:, rand : rand + 10]\n",
    "        Y_sample = Y[rand : rand + 10]\n",
    "        grads, cost = propagate(w, b, X_sample, Y_sample)\n",
    "\n",
    "        # Retrieve derivatives from grads\n",
    "        dw = grads[\"dw\"]\n",
    "        db = grads[\"db\"]\n",
    "\n",
    "        # update rule\n",
    "        w -= learning_rate * dw\n",
    "        b -= learning_rate * db\n",
    "\n",
    "        # Record the costs\n",
    "        if i % 100 == 0:\n",
    "            costs.append(cost)\n",
    "\n",
    "        # Print the cost every 100 training iterations\n",
    "        if print_cost and i % 100 == 0:\n",
    "            print (\"Cost after iteration %i: %f\" %(i, cost))\n",
    "\n",
    "    params = {\"w\": w,\n",
    "              \"b\": b}\n",
    "\n",
    "    grads = {\"dw\": dw,\n",
    "             \"db\": db}\n",
    "\n",
    "    return params, grads, costs\n",
    "\n",
    "\n",
    "def predict(w, b, X):\n",
    "\n",
    "    m = X.shape[1]\n",
    "    Y_prediction = np.zeros((1, m))\n",
    "    w = w.reshape(X.shape[0], 1)\n",
    "\n",
    "    # Compute vector \"A\" predicting the probabilities\n",
    "    A = sigmoid(np.dot(w.T, X) + b)\n",
    "\n",
    "    for i in range(A.shape[1]):\n",
    "\n",
    "        # Convert probabilities A[0,i] to actual predictions p[0,i]\n",
    "        if (A[0, i] <= 0.5):\n",
    "            Y_prediction[0][i] = 0\n",
    "        else:\n",
    "            Y_prediction[0][i] = 1\n",
    "\n",
    "    return Y_prediction\n",
    "\n",
    "\n",
    "def SGD_model(X_train, Y_train, X_test, Y_test, num_iterations = 2000, learning_rate = 0.5, print_cost = False):\n",
    "\n",
    "    # initialize parameters with zeros\n",
    "    w, b = initialize_with_zeros(X_train.shape[0])\n",
    "    # print(X_train.shape[0])\n",
    "    # Gradient descent\n",
    "    parameters, grads, costs = SGD_optimize(w, b, X_train, Y_train, num_iterations, learning_rate, print_cost)\n",
    "\n",
    "    # Retrieve parameters w and b from dictionary \"parameters\"\n",
    "    w = parameters[\"w\"]\n",
    "    b = parameters[\"b\"]\n",
    "\n",
    "    # Predict test/train set examples\n",
    "    Y_prediction_test = predict(w, b, X_test)\n",
    "    Y_prediction_train = predict(w, b, X_train)\n",
    "\n",
    "    # Print train/test Errors\n",
    "    print(\"train accuracy: {} %\".format(100 - np.mean(np.abs(Y_prediction_train - Y_train)) * 100))\n",
    "    print(\"test accuracy: {} %\".format(100 - np.mean(np.abs(Y_prediction_test - Y_test)) * 100))\n",
    "\n",
    "    d = {\"costs\": costs,\n",
    "         \"Y_prediction_test\": Y_prediction_test,\n",
    "         \"Y_prediction_train\" : Y_prediction_train,\n",
    "         \"w\" : w,\n",
    "         \"b\" : b,\n",
    "         \"learning_rate\" : learning_rate,\n",
    "         \"num_iterations\": num_iterations}\n",
    "\n",
    "    return d"
   ]
  },
  {
   "cell_type": "code",
   "execution_count": 80,
   "metadata": {},
   "outputs": [
    {
     "name": "stdout",
     "output_type": "stream",
     "text": [
      "Cost after iteration 0: 0.693147\n",
      "Cost after iteration 100: 0.655642\n",
      "Cost after iteration 200: 0.666576\n",
      "Cost after iteration 300: 0.669828\n",
      "Cost after iteration 400: 0.659210\n",
      "Cost after iteration 500: 0.619173\n",
      "train accuracy: 66.1215783860647 %\n",
      "test accuracy: 68.97654584221749 %\n"
     ]
    }
   ],
   "source": [
    "SGD_d_001 = SGD_model(train_set_x, train_set_y, test_set_x, test_set_y, num_iterations = 600, learning_rate = 0.001, print_cost = True)"
   ]
  },
  {
   "cell_type": "markdown",
   "metadata": {},
   "source": [
    "### 3. Ploting the learning curves for two modifications of gradient descent  (dependence of the value of the loss function on the iteration number), apply models with different values of the learning rate (at least 5 different learning rates). How does it affect the accuracy of the model? "
   ]
  },
  {
   "cell_type": "code",
   "execution_count": 81,
   "metadata": {},
   "outputs": [
    {
     "name": "stdout",
     "output_type": "stream",
     "text": [
      "\n",
      "For GD model with learning rate = 0.1:\n",
      "train accuracy: 82.26093138997511 %\n",
      "test accuracy: 76.97228144989339 %\n",
      "\n",
      "For SGD model with learning rate = 0.1:\n",
      "train accuracy: 75.50657660860291 %\n",
      "test accuracy: 69.9360341151386 %\n",
      "\n",
      "For GD model with learning rate = 0.05:\n",
      "train accuracy: 80.62566654816922 %\n",
      "test accuracy: 76.97228144989339 %\n",
      "\n",
      "For SGD model with learning rate = 0.05:\n",
      "train accuracy: 80.05687877710629 %\n",
      "test accuracy: 76.75906183368869 %\n",
      "\n",
      "For GD model with learning rate = 0.01:\n",
      "train accuracy: 77.10629221471739 %\n",
      "test accuracy: 74.73347547974413 %\n",
      "\n",
      "For SGD model with learning rate = 0.01:\n",
      "train accuracy: 76.50195520796302 %\n",
      "test accuracy: 74.6268656716418 %\n",
      "\n",
      "For GD model with learning rate = 0.005:\n",
      "train accuracy: 75.00888730892285 %\n",
      "test accuracy: 73.34754797441364 %\n",
      "\n",
      "For SGD model with learning rate = 0.005:\n",
      "train accuracy: 74.58229648062567 %\n",
      "test accuracy: 73.2409381663113 %\n",
      "\n",
      "For GD model with learning rate = 0.001:\n",
      "train accuracy: 67.7568432278706 %\n",
      "test accuracy: 69.40298507462687 %\n",
      "\n",
      "For SGD model with learning rate = 0.001:\n",
      "train accuracy: 66.86811233558478 %\n",
      "test accuracy: 69.9360341151386 %\n",
      "\n",
      "For GD model with learning rate = 0.0005:\n",
      "train accuracy: 64.84180590117313 %\n",
      "test accuracy: 68.97654584221749 %\n",
      "\n",
      "For SGD model with learning rate = 0.0005:\n",
      "train accuracy: 64.30856736580164 %\n",
      "test accuracy: 67.48400852878464 %\n"
     ]
    },
    {
     "data": {
      "image/png": "[encoded data removed]",
      "text/plain": [
       "<Figure size 1080x720 with 6 Axes>"
      ]
     },
     "metadata": {
      "needs_background": "light"
     },
     "output_type": "display_data"
    }
   ],
   "source": [
    "learning_rate_arr = [0.1, 0.05, 0.01, 0.005, 0.001, 0.0005]\n",
    "fig = plt.subplots(figsize = (15, 10))\n",
    "plt.subplots_adjust(wspace = 0.2, hspace = 0.5)\n",
    "\n",
    "for i, lr in enumerate(learning_rate_arr):\n",
    "\n",
    "    print('\\nFor GD model with learning rate = {}:'.format(lr))\n",
    "    d = model(train_set_x, train_set_y, test_set_x, test_set_y, num_iterations = 1000, learning_rate = lr, print_cost = False)\n",
    "\n",
    "    print('\\nFor SGD model with learning rate = {}:'.format(lr))\n",
    "    SGD_d = SGD_model(train_set_x, train_set_y, test_set_x, test_set_y, num_iterations = 1000, learning_rate = lr, print_cost = False)\n",
    "    \n",
    "    plt.subplot(3, 2, i + 1)\n",
    "    plt.plot(d['costs'], label = \"GD\")\n",
    "    plt.plot(SGD_d['costs'], label = \"SGD\")\n",
    "    \n",
    "    plt.title('Learning rate = ' + str(lr), fontsize = 12)\n",
    "    plt.xlabel(\"Iteration's num x 100\", fontsize = 12)\n",
    "    plt.ylabel('Cost', fontsize = 12)\n",
    "\n",
    "    plt.legend(loc = 'best')\n",
    "    plt.grid()"
   ]
  },
  {
   "cell_type": "markdown",
   "metadata": {},
   "source": [
    "### From the obtained result it can be seen that learning rate influence on the speed of learning model:\n",
    "\n",
    "1. The best accuracy in GD was obtained on lr = 0.1 (highest value of the lr). \n",
    "2. For SGD the best accuracy was abtained on lr = 0.05 (the second highest result)\n",
    "\n",
    "---"
   ]
  },
  {
   "cell_type": "markdown",
   "metadata": {},
   "source": [
    "### 4.Implementing the Adam optimization method using the numpy library and comparing the accuracy of the model fitted with it with the models trained by the classic GD and SGD algorithms."
   ]
  },
  {
   "cell_type": "code",
   "execution_count": 82,
   "metadata": {},
   "outputs": [],
   "source": [
    "class Adam:\n",
    "    \n",
    "    \"\"\"Adam - Adaptive Moment Estimation\n",
    "    Parameters:\n",
    "    -----------\n",
    "    learning_rate: float = 0.001\n",
    "        The step length used when following the negative gradient.\n",
    "    beta_1: float = 0.9\n",
    "        The exponential decay rate for the 1st moment estimates.\n",
    "    beta_2: float = 0.999\n",
    "        The exponential decay rate for the 2nd moment estimates.\n",
    "    epsilon: float = 1e-07\n",
    "        A small floating point value to avoid zero denominator.\n",
    "    \"\"\"\n",
    "    \n",
    "    def __init__(self, learning_rate: float = 0.001, beta_1: float = 0.9, beta_2: float = 0.999, epsilon: float = 1e-7) -> None:\n",
    "        self.learning_rate = learning_rate\n",
    "        self.epsilon = epsilon\n",
    "        self.beta_1 = beta_1\n",
    "        self.beta_2 = beta_2\n",
    "\n",
    "        self.t = 0\n",
    "        self.m = None  # Decaying averages of past gradients\n",
    "        self.v = None  # Decaying averages of past squared gradients\n",
    "\n",
    "    def update(self, w: np.ndarray, grad_wrt_w: np.ndarray) -> np.ndarray:\n",
    "        self.t += 1\n",
    "        if self.m is None:\n",
    "            self.m = np.zeros(np.shape(grad_wrt_w))\n",
    "            self.v = np.zeros(np.shape(grad_wrt_w))\n",
    "\n",
    "        self.m = self.beta_1 * self.m + (1 - self.beta_1) * grad_wrt_w\n",
    "        self.v = self.beta_2 * self.v + (1 - self.beta_2) * np.power(grad_wrt_w, 2)\n",
    "\n",
    "        m_hat = self.m / (1 - self.beta_1**self.t)\n",
    "        v_hat = self.v / (1 - self.beta_2**self.t)\n",
    "\n",
    "        w_update = self.learning_rate * m_hat / (np.sqrt(v_hat) + self.epsilon)\n",
    "\n",
    "        return w - w_update"
   ]
  },
  {
   "cell_type": "code",
   "execution_count": 83,
   "metadata": {},
   "outputs": [],
   "source": [
    "def optimize(w, b, X, Y, num_iterations, learning_rate, print_cost = False):\n",
    "\n",
    "    costs = []\n",
    "\n",
    "    for i in range(num_iterations):\n",
    "\n",
    "        # Cost and gradient calculation\n",
    "        # rand = np.random.randint(0, X.shape[1] - 10)\n",
    "        # X_sample = X[:, rand:rand + 10]\n",
    "        # Y_sample = Y[rand:rand + 10]\n",
    "        grads, cost = propagate(w, b, X, Y)\n",
    "\n",
    "        # Retrieve derivatives from grads\n",
    "        dw = grads[\"dw\"]\n",
    "        db = grads[\"db\"]\n",
    "\n",
    "        # update rule\n",
    "        adam = Adam()\n",
    "        w = adam.update(w, dw)\n",
    "        b -=learning_rate*db\n",
    "\n",
    "        # Record the costs\n",
    "        if i % 100 == 0:\n",
    "            costs.append(cost)\n",
    "\n",
    "        # Print the cost every 100 training iterations\n",
    "        if print_cost and i % 100 == 0:\n",
    "            print (\"Cost after iteration %i: %f\" %(i, cost))\n",
    "\n",
    "    params = {\"w\": w,\n",
    "              \"b\": b}\n",
    "\n",
    "    grads = {\"dw\": dw,\n",
    "             \"db\": db}\n",
    "\n",
    "    return params, grads, costs"
   ]
  },
  {
   "cell_type": "code",
   "execution_count": 84,
   "metadata": {},
   "outputs": [
    {
     "name": "stdout",
     "output_type": "stream",
     "text": [
      "Cost after iteration 0: 0.693147\n",
      "Cost after iteration 100: 0.495165\n",
      "Cost after iteration 200: 0.450725\n",
      "Cost after iteration 300: 0.426378\n",
      "Cost after iteration 400: 0.409786\n",
      "Cost after iteration 500: 0.396927\n",
      "train accuracy: 83.39850693210096 %\n",
      "test accuracy: 75.5863539445629 %\n"
     ]
    }
   ],
   "source": [
    "Adam_d_001 = model(train_set_x, train_set_y, test_set_x, test_set_y, \\\n",
    "                   num_iterations = 600, learning_rate = 0.001, print_cost = True)"
   ]
  },
  {
   "cell_type": "code",
   "execution_count": 85,
   "metadata": {},
   "outputs": [
    {
     "data": {
      "image/png": "[encoded data removed]",
      "text/plain": [
       "<Figure size 864x432 with 1 Axes>"
      ]
     },
     "metadata": {
      "needs_background": "light"
     },
     "output_type": "display_data"
    }
   ],
   "source": [
    "plt.figure(figsize = (12, 6))\n",
    "\n",
    "#plt.yscale('log')\n",
    "plt.plot(d_001['costs'], label = \"GD\")\n",
    "plt.plot(SGD_d_001['costs'], label = \"SGD\")\n",
    "plt.plot(Adam_d_001['costs'], label = \"Adam\")\n",
    "\n",
    "plt.title('Learning rate = 0.1', fontsize = 14)\n",
    "plt.xlabel(\"Iteration's num x 100\", fontsize = 12)\n",
    "plt.ylabel('Cost', fontsize = 12)\n",
    "\n",
    "plt.legend(loc = 'best')\n",
    "plt.grid()\n"
   ]
  },
  {
   "cell_type": "markdown",
   "metadata": {},
   "source": [
    "### It can be seen that Adam's algorithm converge to minimum better and smoothly than others!"
   ]
  }
 ],
 "metadata": {
  "colab": {
   "collapsed_sections": [],
   "name": "Logistic Regression as a Neural Network - BP alg.ipynb",
   "provenance": []
  },
  "coursera": {
   "course_slug": "neural-networks-deep-learning",
   "graded_item_id": "XaIWT",
   "launcher_item_id": "zAgPl"
  },
  "kernelspec": {
   "display_name": "Python 3",
   "language": "python",
   "name": "python3"
  },
  "language_info": {
   "codemirror_mode": {
    "name": "ipython",
    "version": 3
   },
   "file_extension": ".py",
   "mimetype": "text/x-python",
   "name": "python",
   "nbconvert_exporter": "python",
   "pygments_lexer": "ipython3",
   "version": "3.8.8"
  }
 },
 "nbformat": 4,
 "nbformat_minor": 1
}
