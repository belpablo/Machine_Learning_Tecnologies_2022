{
 "cells": [
  {
   "cell_type": "markdown",
   "id": "920c0e11",
   "metadata": {},
   "source": [
    "# Task 4:\n",
    "\n",
    "1.\tDownload Alice in Wonderland by Lewis Carroll from Project Gutenberg's website http://www.gutenberg.org/files/11/11-0.txt\n",
    "\n",
    "\n",
    "2.\tPerform any necessary preprocessing on the text, including converting to lower case, removing stop words, numbers / non-alphabetic characters, lemmatization.\n",
    "\n",
    "\n",
    "3.\tFind Top 10 most important (for example, in terms of TF-IDF metric) words from each chapter in the text (not \"Alice\"); how would you name each chapter according to the identified tokens?\n",
    "\n",
    "\n",
    "4.\tFind the Top 10 most used verbs in sentences with Alice. What does Alice do most often?\n",
    "\n",
    "\n",
    "5.\t*(not necessary) Find Top 100 most used verbs in sentences with Alice. Get word vectors using a pre-trained word2vec model and visualize them. Compare the words using embeddings. \n"
   ]
  },
  {
   "cell_type": "code",
   "execution_count": 15,
   "id": "f087bfc0",
   "metadata": {},
   "outputs": [],
   "source": [
    "import re\n",
    "import pandas as pd\n",
    "from nltk.corpus import stopwords\n",
    "from nltk.probability import FreqDist\n",
    "from nltk.stem import PorterStemmer, WordNetLemmatizer\n",
    "from nltk.tokenize import TreebankWordTokenizer, WhitespaceTokenizer"
   ]
  },
  {
   "cell_type": "code",
   "execution_count": 16,
   "id": "31e00b3d",
   "metadata": {},
   "outputs": [
    {
     "name": "stderr",
     "output_type": "stream",
     "text": [
      "[nltk_data] Downloading package stopwords to\n",
      "[nltk_data]     C:\\Users\\belpa\\AppData\\Roaming\\nltk_data...\n",
      "[nltk_data]   Package stopwords is already up-to-date!\n",
      "[nltk_data] Downloading package wordnet to\n",
      "[nltk_data]     C:\\Users\\belpa\\AppData\\Roaming\\nltk_data...\n",
      "[nltk_data]   Package wordnet is already up-to-date!\n",
      "[nltk_data] Downloading package punkt to\n",
      "[nltk_data]     C:\\Users\\belpa\\AppData\\Roaming\\nltk_data...\n",
      "[nltk_data]   Package punkt is already up-to-date!\n",
      "[nltk_data] Downloading package averaged_perceptron_tagger to\n",
      "[nltk_data]     C:\\Users\\belpa\\AppData\\Roaming\\nltk_data...\n",
      "[nltk_data]   Package averaged_perceptron_tagger is already up-to-\n",
      "[nltk_data]       date!\n"
     ]
    },
    {
     "data": {
      "text/plain": [
       "True"
      ]
     },
     "execution_count": 16,
     "metadata": {},
     "output_type": "execute_result"
    }
   ],
   "source": [
    "import nltk\n",
    "nltk.download('stopwords')\n",
    "nltk.download('wordnet')\n",
    "nltk.download('punkt')\n",
    "nltk.download('averaged_perceptron_tagger')"
   ]
  },
  {
   "cell_type": "markdown",
   "id": "e1b8639c",
   "metadata": {},
   "source": [
    "# 1-2.\tDownload Alice in Wonderland by Lewis Carroll and Perform any necessary preprocessing on the text, including converting to lower case, removing stop words, numbers / non-alphabetic characters, lemmatization."
   ]
  },
  {
   "cell_type": "code",
   "execution_count": 83,
   "id": "228900a1",
   "metadata": {},
   "outputs": [
    {
     "data": {
      "text/plain": [
       "'The Project Gutenberg eBook of Alice’s Adventures in Wonderland, by Lewis Carroll\\n\\nThis eBook is for the use of anyone anywhere in the United States and\\nmost other parts of the world at no cost and with almost no restrictions\\nwhatsoever. You may copy it, give it away or re-use it under the terms\\nof the Project Gutenberg License included with this eBook or online at\\nwww.gutenberg.org. If you are not located in the United States, you\\nwill have to check the laws of the country where you are located before\\nusing this eBook.\\n\\nTitle: Alice’s Adventures in Wonderland\\n\\nAuthor: Lewis Carroll\\n\\nRelease Date: January, 1991 [eBook #11]\\n[Most recently updated: October 12, 2020]\\n\\nLanguage: English\\n\\nCharacter set encoding: UTF-8\\n\\nProduced by: Arthur DiBianca and David Widger\\n\\n*** START OF THE PROJECT GUTENBERG EBOOK ALICE’S ADVENTURES IN WONDERLAND ***\\n\\n[Illustration]\\n\\n\\n\\n\\nAlice’s Adventures in Wonderland\\n\\nby Lewis Carroll\\n\\nTHE MILLENNIUM FULCRUM EDITION 3.0\\n\\nContents\\n\\n CHAPTER I.     Down the Rabbit-Hole\\n CHAPTER II.    The Pool of Tears\\n CHAPTER III.   A Caucus-Race and a Long Tale\\n CHAPTER IV.    The Rabbit Sends in a Little Bill\\n CHAPTER V.     Advice from a Caterpillar\\n CHAPTER VI.    Pig and Pepper\\n CHAPTER VII.   A Mad Tea-Party\\n CHAPTER VIII.  The Queen’s Croquet-Ground\\n CHAPTER IX.    The Mock Turtle’s Story\\n CHAPTER X.     The Lobster Quadrille\\n CHAPTER XI.    Who Stole the Tarts?\\n CHAPTER XII.   Alice’s Evidence\\n\\n\\n\\n\\nCHAPTER I.\\nDown the Rabbit-Hole\\n\\n\\nAlice was beginning to get very tired of sitting by her sister on the\\nbank, and of having nothing to do: once or twice she had peeped into\\nthe book her sister was reading, but it had no pictures or\\nconversations in it, “and what is the use of a book,” thought Alice\\n“without pictures or conversations?”\\n\\nSo she was considering in her own mind (as well as she could, for the\\nhot day made her feel very sleepy and stupid), whether the pleasure of\\nmaking a daisy-chain would be worth the trouble of getting up and\\npicking the daisies, '"
      ]
     },
     "execution_count": 83,
     "metadata": {},
     "output_type": "execute_result"
    }
   ],
   "source": [
    "file = open('AliceInWonderland.txt', 'r', encoding = 'utf-8')\n",
    "text = file.read()\n",
    "file.close()\n",
    "\n",
    "text[:2000]"
   ]
  },
  {
   "cell_type": "code",
   "execution_count": 84,
   "id": "7cefb165",
   "metadata": {},
   "outputs": [
    {
     "data": {
      "text/plain": [
       "'\\nDown the Rabbit-Hole\\n\\n\\nAlice was beginning to get very tired of sitting by her sister on the\\nbank, and of having nothing to do: once or twice she had peeped into\\nthe book her sister was reading, but it had no pictures or\\nconversations in it, “and what is the use of a book,” thought Alice\\n“without pictures or conversations?”\\n\\nSo she was considering in her own mind (as well as she could, for the\\nhot day made her feel very sleepy and stupid), whether the pleasure of\\nmaking a daisy-chain would be worth the trouble of getting up and\\npicking the daisies, when suddenly a White Rabbit with pink eyes ran\\nclose by her.\\n\\nThere was nothing so _very_ remarkable in that; nor did Alice think it\\nso _very_ much out of the way to hear the Rabbit say to itself, “Oh\\ndear! Oh dear! I shall be late!” (when she thought it over afterwards,\\nit occurred to her that she ought to have wondered at this, but at the\\ntime it all seemed quite natural); but when the Rabbit actually _took a\\nwatch out of its waistcoat-pocket_, and looked at it, and then hurried\\non, Alice started to her feet, for it flashed across her mind that she\\nhad never before seen a rabbit with either a waistcoat-pocket, or a\\nwatch to take out of it, and burning with curiosity, she ran across the\\nfield after it, and fortunately was just in time to see it pop down a\\nlarge rabbit-hole under the hedge.\\n\\nIn another moment down went Alice after it, never once considering how\\nin the world she was to get out again.\\n\\nThe rabbit-hole went straight on like a tunnel for some way, and then\\ndipped suddenly down, so suddenly that Alice had not a moment to think\\nabout stopping herself before she found herself falling down a very\\ndeep well.\\n\\nEither the well was very deep, or she fell very slowly, for she had\\nplenty of time as she went down to look about her and to wonder what\\nwas going to happen next. First, she tried to look down and make out\\nwhat she was coming to, but it was too dark to see anything; then she\\nlooked at the sides of the well,'"
      ]
     },
     "execution_count": 84,
     "metadata": {},
     "output_type": "execute_result"
    }
   ],
   "source": [
    "# Deleting the header and the footer in text\n",
    "\n",
    "text = text.split('CHAPTER I.')[2]\n",
    "text = text.split('THE END')[0]\n",
    "\n",
    "text[:2000] # Now we got only text of book chapters"
   ]
  },
  {
   "cell_type": "code",
   "execution_count": 85,
   "id": "542ead4c",
   "metadata": {},
   "outputs": [
    {
     "data": {
      "text/plain": [
       "'Down the RabbitHoleAlice was beginning to get very tired of sitting by her sister on thebank and of having nothing to do once or twice she had peeped intothe book her sister was reading but it had no pictures orconversations in it and what is the use of a book thought Alicewithout pictures or conversationsSo she was considering in her own mind as well as she could for thehot day made her feel very sleepy and stupid whether the pleasure ofmaking a daisychain would be worth the trouble of getting up andpicking the daisies when suddenly a White Rabbit with pink eyes ranclose by herThere was nothing so _very_ remarkable in that nor did Alice think itso _very_ much out of the way to hear the Rabbit say to itself Ohdear Oh dear I shall be late when she thought it over afterwardsit occurred to her that she ought to have wondered at this but at thetime it all seemed quite natural but when the Rabbit actually _took awatch out of its waistcoatpocket_ and looked at it and then hurriedon Alice started to her feet for it flashed across her mind that shehad never before seen a rabbit with either a waistcoatpocket or awatch to take out of it and burning with curiosity she ran across thefield after it and fortunately was just in time to see it pop down alarge rabbithole under the hedgeIn another moment down went Alice after it never once considering howin the world she was to get out againThe rabbithole went straight on like a tunnel for some way and thendipped suddenly down so suddenly that Alice had not a moment to thinkabout stopping herself before she found herself falling down a verydeep wellEither the well was very deep or she fell very slowly for she hadplenty of time as she went down to look about her and to wonder whatwas going to happen next First she tried to look down and make outwhat she was coming to but it was too dark to see anything then shelooked at the sides of the well and noticed that they were filled withcupboards and bookshelves here and there she saw maps an'"
      ]
     },
     "execution_count": 85,
     "metadata": {},
     "output_type": "execute_result"
    }
   ],
   "source": [
    "# Removing extra characters with replacement\n",
    "\n",
    "text = re.sub('<.*?>', ' ', text)\n",
    "text = re.sub(' +', ' ', text)\n",
    "text = re.sub(r'[^\\w\\s]', '', text)\n",
    "text = re.sub('\\n', '', text)\n",
    "\n",
    "text[:2000]"
   ]
  },
  {
   "cell_type": "code",
   "execution_count": 86,
   "id": "34088f16",
   "metadata": {},
   "outputs": [
    {
     "data": {
      "text/plain": [
       "132114"
      ]
     },
     "execution_count": 86,
     "metadata": {},
     "output_type": "execute_result"
    }
   ],
   "source": [
    "len(text)"
   ]
  },
  {
   "cell_type": "markdown",
   "id": "e4db8a5a",
   "metadata": {},
   "source": [
    "# 3.\tFind Top 10 most important (for example, in terms of TF-IDF metric) words from each chapter in the text (not \"Alice\"); how would you name each chapter according to the identified tokens?"
   ]
  },
  {
   "cell_type": "code",
   "execution_count": 87,
   "id": "e626b60d",
   "metadata": {},
   "outputs": [
    {
     "data": {
      "text/plain": [
       "12"
      ]
     },
     "execution_count": 87,
     "metadata": {},
     "output_type": "execute_result"
    }
   ],
   "source": [
    "# Splitting the text by the chapters\n",
    "\n",
    "chapters = text.split('CHAPTER')\n",
    "len(chapters)"
   ]
  },
  {
   "cell_type": "code",
   "execution_count": 88,
   "id": "0d55ba81",
   "metadata": {},
   "outputs": [
    {
     "data": {
      "text/plain": [
       "12785"
      ]
     },
     "execution_count": 88,
     "metadata": {},
     "output_type": "execute_result"
    }
   ],
   "source": [
    "# Lemmatization + removing stop-words:\n",
    "\n",
    "text = re.sub(r'[^\\w\\s]', '', text, re.UNICODE)\n",
    "text = text.lower()\n",
    "\n",
    "stop_words = stopwords.words('english')\n",
    "lemmatizer = WordNetLemmatizer()\n",
    "\n",
    "text = [lemmatizer.lemmatize(token) for token in TreebankWordTokenizer().tokenize(text)]\n",
    "text = [word for word in text if not word in stop_words]\n",
    "\n",
    "len(text)"
   ]
  },
  {
   "cell_type": "code",
   "execution_count": 89,
   "id": "41bdf975",
   "metadata": {
    "scrolled": false
   },
   "outputs": [
    {
     "name": "stdout",
     "output_type": "stream",
     "text": [
      "\n",
      "Top 10 most important words from chapter 1:\n",
      "\tWord: was, TF-IDF metric: 0.14649\n",
      "\tWord: little, TF-IDF metric: 0.06388\n",
      "\tWord: like, TF-IDF metric: 0.05322\n",
      "\tWord: see, TF-IDF metric: 0.04594\n",
      "\tWord: bat, TF-IDF metric: 0.04386\n",
      "\tWord: way, TF-IDF metric: 0.04345\n",
      "\tWord: think, TF-IDF metric: 0.042\n",
      "\tWord: door, TF-IDF metric: 0.04134\n",
      "\tWord: nothing, TF-IDF metric: 0.04114\n",
      "\tWord: key, TF-IDF metric: 0.04098\n",
      "\n",
      "Top 10 most important words from chapter 2:\n",
      "\tWord: was, TF-IDF metric: 0.08917\n",
      "\tWord: mouse, TF-IDF metric: 0.06743\n",
      "\tWord: little, TF-IDF metric: 0.06666\n",
      "\tWord: dear, TF-IDF metric: 0.05204\n",
      "\tWord: cried, TF-IDF metric: 0.04989\n",
      "\tWord: foot, TF-IDF metric: 0.04908\n",
      "\tWord: pool, TF-IDF metric: 0.04769\n",
      "\tWord: must, TF-IDF metric: 0.04329\n",
      "\tWord: thing, TF-IDF metric: 0.04182\n",
      "\tWord: oh, TF-IDF metric: 0.04166\n",
      "\n",
      "Top 10 most important words from chapter 3:\n",
      "\tWord: said, TF-IDF metric: 0.12725\n",
      "\tWord: mouse, TF-IDF metric: 0.11355\n",
      "\tWord: dodo, TF-IDF metric: 0.08253\n",
      "\tWord: was, TF-IDF metric: 0.06269\n",
      "\tWord: know, TF-IDF metric: 0.04697\n",
      "\tWord: lory, TF-IDF metric: 0.04497\n",
      "\tWord: soon, TF-IDF metric: 0.044\n",
      "\tWord: long, TF-IDF metric: 0.03998\n",
      "\tWord: question, TF-IDF metric: 0.03839\n",
      "\tWord: course, TF-IDF metric: 0.03711\n",
      "\n",
      "Top 10 most important words from chapter 4:\n",
      "\tWord: was, TF-IDF metric: 0.06816\n",
      "\tWord: little, TF-IDF metric: 0.05823\n",
      "\tWord: rabbit, TF-IDF metric: 0.05657\n",
      "\tWord: bill, TF-IDF metric: 0.04188\n",
      "\tWord: puppy, TF-IDF metric: 0.04156\n",
      "\tWord: one, TF-IDF metric: 0.03907\n",
      "\tWord: heard, TF-IDF metric: 0.03829\n",
      "\tWord: said, TF-IDF metric: 0.03675\n",
      "\tWord: quite, TF-IDF metric: 0.03446\n",
      "\tWord: sure, TF-IDF metric: 0.03409\n",
      "\n",
      "Top 10 most important words from chapter 5:\n",
      "\tWord: said, TF-IDF metric: 0.16351\n",
      "\tWord: caterpillar, TF-IDF metric: 0.07539\n",
      "\tWord: was, TF-IDF metric: 0.0729\n",
      "\tWord: pigeon, TF-IDF metric: 0.05941\n",
      "\tWord: serpent, TF-IDF metric: 0.04621\n",
      "\tWord: size, TF-IDF metric: 0.04519\n",
      "\tWord: youth, TF-IDF metric: 0.04191\n",
      "\tWord: little, TF-IDF metric: 0.03924\n",
      "\tWord: father, TF-IDF metric: 0.03629\n",
      "\tWord: egg, TF-IDF metric: 0.03437\n",
      "\n",
      "Top 10 most important words from chapter 6:\n",
      "\tWord: said, TF-IDF metric: 0.11916\n",
      "\tWord: was, TF-IDF metric: 0.08349\n",
      "\tWord: cat, TF-IDF metric: 0.07922\n",
      "\tWord: footman, TF-IDF metric: 0.06457\n",
      "\tWord: duchess, TF-IDF metric: 0.06384\n",
      "\tWord: like, TF-IDF metric: 0.06228\n",
      "\tWord: baby, TF-IDF metric: 0.05436\n",
      "\tWord: much, TF-IDF metric: 0.05232\n",
      "\tWord: little, TF-IDF metric: 0.04039\n",
      "\tWord: went, TF-IDF metric: 0.03979\n",
      "\n",
      "Top 10 most important words from chapter 7:\n",
      "\tWord: said, TF-IDF metric: 0.16205\n",
      "\tWord: hatter, TF-IDF metric: 0.13929\n",
      "\tWord: dormouse, TF-IDF metric: 0.13817\n",
      "\tWord: march, TF-IDF metric: 0.10471\n",
      "\tWord: hare, TF-IDF metric: 0.06874\n",
      "\tWord: was, TF-IDF metric: 0.06558\n",
      "\tWord: time, TF-IDF metric: 0.05376\n",
      "\tWord: know, TF-IDF metric: 0.0435\n",
      "\tWord: went, TF-IDF metric: 0.03985\n",
      "\tWord: thing, TF-IDF metric: 0.03844\n",
      "\n",
      "Top 10 most important words from chapter 8:\n",
      "\tWord: queen, TF-IDF metric: 0.13296\n",
      "\tWord: said, TF-IDF metric: 0.10837\n",
      "\tWord: was, TF-IDF metric: 0.08504\n",
      "\tWord: head, TF-IDF metric: 0.07011\n",
      "\tWord: king, TF-IDF metric: 0.05001\n",
      "\tWord: three, TF-IDF metric: 0.04612\n",
      "\tWord: cat, TF-IDF metric: 0.04572\n",
      "\tWord: two, TF-IDF metric: 0.04325\n",
      "\tWord: soldier, TF-IDF metric: 0.04134\n",
      "\tWord: executioner, TF-IDF metric: 0.03848\n",
      "\n",
      "Top 10 most important words from chapter 9:\n",
      "\tWord: said, TF-IDF metric: 0.15981\n",
      "\tWord: mock, TF-IDF metric: 0.121\n",
      "\tWord: turtle, TF-IDF metric: 0.09528\n",
      "\tWord: duchess, TF-IDF metric: 0.09174\n",
      "\tWord: gryphon, TF-IDF metric: 0.08256\n",
      "\tWord: was, TF-IDF metric: 0.06038\n",
      "\tWord: moral, TF-IDF metric: 0.05823\n",
      "\tWord: went, TF-IDF metric: 0.05782\n",
      "\tWord: queen, TF-IDF metric: 0.05482\n",
      "\tWord: dont, TF-IDF metric: 0.04764\n",
      "\n",
      "Top 10 most important words from chapter 10:\n",
      "\tWord: mock, TF-IDF metric: 0.14349\n",
      "\tWord: said, TF-IDF metric: 0.1316\n",
      "\tWord: turtle, TF-IDF metric: 0.13037\n",
      "\tWord: gryphon, TF-IDF metric: 0.11628\n",
      "\tWord: lobster, TF-IDF metric: 0.06928\n",
      "\tWord: beautiful, TF-IDF metric: 0.06792\n",
      "\tWord: join, TF-IDF metric: 0.06376\n",
      "\tWord: wont, TF-IDF metric: 0.06339\n",
      "\tWord: would, TF-IDF metric: 0.05468\n",
      "\tWord: whiting, TF-IDF metric: 0.04498\n",
      "\n",
      "Top 10 most important words from chapter 11:\n",
      "\tWord: said, TF-IDF metric: 0.13575\n",
      "\tWord: king, TF-IDF metric: 0.09433\n",
      "\tWord: hatter, TF-IDF metric: 0.08972\n",
      "\tWord: was, TF-IDF metric: 0.08166\n",
      "\tWord: witness, TF-IDF metric: 0.06323\n",
      "\tWord: dormouse, TF-IDF metric: 0.05735\n",
      "\tWord: court, TF-IDF metric: 0.05711\n",
      "\tWord: queen, TF-IDF metric: 0.05097\n",
      "\tWord: rabbit, TF-IDF metric: 0.04866\n",
      "\tWord: white, TF-IDF metric: 0.04683\n",
      "\tWord: thought, TF-IDF metric: 0.04485\n",
      "\n",
      "Top 10 most important words from chapter 12:\n",
      "\tWord: said, TF-IDF metric: 0.16018\n",
      "\tWord: king, TF-IDF metric: 0.07293\n",
      "\tWord: jury, TF-IDF metric: 0.04983\n",
      "\tWord: gave, TF-IDF metric: 0.04747\n",
      "\tWord: little, TF-IDF metric: 0.04627\n",
      "\tWord: sister, TF-IDF metric: 0.04256\n",
      "\tWord: would, TF-IDF metric: 0.03933\n",
      "\tWord: rabbit, TF-IDF metric: 0.03873\n",
      "\tWord: head, TF-IDF metric: 0.03684\n",
      "\tWord: white, TF-IDF metric: 0.03651\n"
     ]
    }
   ],
   "source": [
    "for idx, chapter in enumerate(chapters):\n",
    "    \n",
    "    chapter = re.sub(r'[^\\w\\s]', '', chapter, re.UNICODE)\n",
    "    chapter = chapter.lower()\n",
    "    chapter = [lemmatizer.lemmatize(token) for token in TreebankWordTokenizer().tokenize(chapter)]\n",
    "    chapter = [word for word in chapter if not word in stop_words]\n",
    "    \n",
    "    analys = nltk.Text(chapter)\n",
    "    print('\\nTop 10 most important words from chapter {}:'.format(idx + 1))\n",
    "    \n",
    "    scores = {word: nltk.TextCollection(text).tf_idf(word, chapter) for word in analys}\n",
    "    sorted_words = sorted(scores.items(), key = lambda x: x[1], reverse = True)\n",
    "    counter = 0\n",
    "    \n",
    "    for word, score in sorted_words[:11]:\n",
    "        if word == 'wa':\n",
    "            word = 'was'\n",
    "        if word != 'alice':\n",
    "            print(\"\\tWord: {}, TF-IDF metric: {}\".format(word, round(score, 5)))\n",
    "            counter += 1\n",
    "        if counter == 9:\n",
    "            continue"
   ]
  },
  {
   "cell_type": "markdown",
   "id": "186356a2",
   "metadata": {},
   "source": [
    "# 4. Find the Top 10 most used verbs in sentences with Alice. What does Alice do most often?"
   ]
  },
  {
   "cell_type": "code",
   "execution_count": 90,
   "id": "505f09a2",
   "metadata": {},
   "outputs": [],
   "source": [
    "file = open('AliceInWonderland.txt', 'r', encoding = 'utf-8')\n",
    "text = file.read()\n",
    "file.close()\n",
    "\n",
    "text = text.split('CHAPTER I.')[2]\n",
    "text = text.split('THE END')[0]\n",
    "text = re.sub('\\n', '', text)"
   ]
  },
  {
   "cell_type": "code",
   "execution_count": 91,
   "id": "61a7ce35",
   "metadata": {},
   "outputs": [
    {
     "data": {
      "text/plain": [
       "['Down the Rabbit-HoleAlice was beginning to get very tired of sitting by her sister on thebank, and of having nothing to do: once or twice she had peeped intothe book her sister was reading, but it had no pictures orconversations in it, “and what is the use of a book,” thought Alice“without pictures or conversations?',\n",
       " '”So she was considering in her own mind (as well as she could, for thehot day made her feel very sleepy and stupid), whether the pleasure ofmaking a daisy-chain would be worth the trouble of getting up andpicking the daisies, when suddenly a White Rabbit with pink eyes ranclose by her.',\n",
       " 'There was nothing so _very_ remarkable in that; nor did Alice think itso _very_ much out of the way to hear the Rabbit say to itself, “Ohdear!',\n",
       " 'Oh dear!',\n",
       " 'I shall be late!',\n",
       " '” (when she thought it over afterwards,it occurred to her that she ought to have wondered at this, but at thetime it all seemed quite natural); but when the Rabbit actually _took awatch out of its waistcoat-pocket_, and looked at it, and then hurriedon, Alice started to her feet, for it flashed across her mind that shehad never before seen a rabbit with either a waistcoat-pocket, or awatch to take out of it, and burning with curiosity, she ran across thefield after it, and fortunately was just in time to see it pop down alarge rabbit-hole under the hedge.',\n",
       " 'In another moment down went Alice after it, never once considering howin the world she was to get out again.',\n",
       " 'The rabbit-hole went straight on like a tunnel for some way, and thendipped suddenly down, so suddenly that Alice had not a moment to thinkabout stopping herself before she found herself falling down a verydeep well.',\n",
       " 'Either the well was very deep, or she fell very slowly, for she hadplenty of time as she went down to look about her and to wonder whatwas going to happen next.',\n",
       " 'First, she tried to look down and make outwhat she was coming to, but it was too dark to see anything; then shelooked at the sides of the well, and noticed that they were filled withcupboards and book-shelves; here and there she saw maps and pictureshung upon pegs.']"
      ]
     },
     "execution_count": 91,
     "metadata": {},
     "output_type": "execute_result"
    }
   ],
   "source": [
    "# https://stackoverflow.com/a/31505798 split into sentences code was used:\n",
    "\n",
    "alphabets= \"([A-Za-z])\"\n",
    "prefixes = \"(Mr|St|Mrs|Ms|Dr)[.]\"\n",
    "suffixes = \"(Inc|Ltd|Jr|Sr|Co)\"\n",
    "starters = \"(Mr|Mrs|Ms|Dr|He\\s|She\\s|It\\s|They\\s|Their\\s|Our\\s|We\\s|But\\s|However\\s|That\\s|This\\s|Wherever)\"\n",
    "acronyms = \"([A-Z][.][A-Z][.](?:[A-Z][.])?)\"\n",
    "websites = \"[.](com|net|org|io|gov)\"\n",
    "\n",
    "def split_into_sentences(text):\n",
    "    \n",
    "    text = \" \" + text + \"  \"\n",
    "    text = text.replace(\"\\n\",\" \")\n",
    "    text = re.sub(prefixes,\"\\\\1<prd>\",text)\n",
    "    text = re.sub(websites,\"<prd>\\\\1\",text)\n",
    "    if \"Ph.D\" in text: text = text.replace(\"Ph.D.\",\"Ph<prd>D<prd>\")\n",
    "    text = re.sub(\"\\s\" + alphabets + \"[.] \",\" \\\\1<prd> \",text)\n",
    "    text = re.sub(acronyms + \" \" + starters,\"\\\\1<stop> \\\\2\",text)\n",
    "    text = re.sub(alphabets + \"[.]\" + alphabets + \"[.]\" + alphabets + \"[.]\",\"\\\\1<prd>\\\\2<prd>\\\\3<prd>\",text)\n",
    "    text = re.sub(alphabets + \"[.]\" + alphabets + \"[.]\",\"\\\\1<prd>\\\\2<prd>\",text)\n",
    "    text = re.sub(\" \" + suffixes + \"[.] \" + starters,\" \\\\1<stop> \\\\2\",text)\n",
    "    text = re.sub(\" \" + suffixes + \"[.]\",\" \\\\1<prd>\",text)\n",
    "    text = re.sub(\" \" + alphabets + \"[.]\",\" \\\\1<prd>\",text)\n",
    "    if \"”\" in text: text = text.replace(\".”\",\"”.\")\n",
    "    if \"\\\"\" in text: text = text.replace(\".\\\"\",\"\\\".\")\n",
    "    if \"!\" in text: text = text.replace(\"!\\\"\",\"\\\"!\")\n",
    "    if \"?\" in text: text = text.replace(\"?\\\"\",\"\\\"?\")\n",
    "    text = text.replace(\".\",\".<stop>\")\n",
    "    text = text.replace(\"?\",\"?<stop>\")\n",
    "    text = text.replace(\"!\",\"!<stop>\")\n",
    "    text = text.replace(\"<prd>\",\".\")\n",
    "    sentences = text.split(\"<stop>\")\n",
    "    sentences = sentences[:-1]\n",
    "    sentences = [s.strip() for s in sentences]\n",
    "    return sentences\n",
    "\n",
    "splitted_text = split_into_sentences(text)\n",
    "splitted_text[:10]"
   ]
  },
  {
   "cell_type": "code",
   "execution_count": 92,
   "id": "455b2013",
   "metadata": {},
   "outputs": [
    {
     "data": {
      "text/plain": [
       "369"
      ]
     },
     "execution_count": 92,
     "metadata": {},
     "output_type": "execute_result"
    }
   ],
   "source": [
    "# Searching all sentences with 'Alice':\n",
    "sentences_with_alice = []\n",
    "\n",
    "for sentence in splitted_text:\n",
    "    if re.search(r'\\bAlice\\b', sentence):\n",
    "        sentences_with_alice.append(sentence)\n",
    "        \n",
    "len(sentences_with_alice)"
   ]
  },
  {
   "cell_type": "code",
   "execution_count": 93,
   "id": "8509b903",
   "metadata": {},
   "outputs": [
    {
     "data": {
      "text/plain": [
       "['be',\n",
       " 'begin',\n",
       " 'get',\n",
       " 'sit',\n",
       " 'have',\n",
       " 'do',\n",
       " 'twice',\n",
       " 'have',\n",
       " 'peep',\n",
       " 'be',\n",
       " 'read',\n",
       " 'have',\n",
       " 'be',\n",
       " 'think']"
      ]
     },
     "execution_count": 93,
     "metadata": {},
     "output_type": "execute_result"
    }
   ],
   "source": [
    "# Searching all verbs in sentences with 'Alice':\n",
    "\n",
    "def is_verb(tag):\n",
    "    return tag in ['VB', 'VBD', 'VBG', 'VBN', 'VBP', 'VBZ']\n",
    "\n",
    "a = lambda x: lemmatizer.lemmatize(x[0], 'v')\n",
    "verbdict = []\n",
    "\n",
    "for sentence in sentences_with_alice:\n",
    "    \n",
    "    tokens = nltk.word_tokenize(sentence)\n",
    "    pos_tagged = nltk.pos_tag(tokens)\n",
    "    verbs = filter(lambda x:is_verb(x[1]),pos_tagged)\n",
    "    verbdict.append((list(map(a, list(verbs)))))\n",
    "    \n",
    "verbdict[0]"
   ]
  },
  {
   "cell_type": "code",
   "execution_count": 94,
   "id": "6ece5cb7",
   "metadata": {},
   "outputs": [
    {
     "data": {
      "text/plain": [
       "['be',\n",
       " 'begin',\n",
       " 'get',\n",
       " 'sit',\n",
       " 'have',\n",
       " 'do',\n",
       " 'twice',\n",
       " 'have',\n",
       " 'peep',\n",
       " 'be',\n",
       " 'read',\n",
       " 'have',\n",
       " 'be',\n",
       " 'think',\n",
       " 'be',\n",
       " 'do',\n",
       " 'think',\n",
       " 'hear',\n",
       " 'say',\n",
       " 'think',\n",
       " 'occur',\n",
       " 'have',\n",
       " 'wonder',\n",
       " 'seem',\n",
       " '_took']"
      ]
     },
     "execution_count": 94,
     "metadata": {},
     "output_type": "execute_result"
    }
   ],
   "source": [
    "verbs = []\n",
    "for word_arr in verbdict:\n",
    "    for word in word_arr:\n",
    "        word = re.sub(r\"[^\\w\\s]\", \"\", word, re.UNICODE)\n",
    "        if word and word != \"s\":\n",
    "            verbs.append(word)\n",
    "            \n",
    "verbs[:25]"
   ]
  },
  {
   "cell_type": "code",
   "execution_count": 95,
   "id": "97550390",
   "metadata": {},
   "outputs": [
    {
     "data": {
      "text/plain": [
       "[('be', 226),\n",
       " ('say', 182),\n",
       " ('have', 90),\n",
       " ('think', 67),\n",
       " ('go', 51),\n",
       " ('do', 41),\n",
       " ('get', 39),\n",
       " ('look', 33),\n",
       " ('see', 28),\n",
       " ('begin', 27)]"
      ]
     },
     "execution_count": 95,
     "metadata": {},
     "output_type": "execute_result"
    }
   ],
   "source": [
    "# Top 10 most used verbs in sentences with 'Alice' are:\n",
    "\n",
    "fdist = FreqDist(nltk.Text(verbs))\n",
    "fdist.most_common(10)"
   ]
  },
  {
   "cell_type": "code",
   "execution_count": null,
   "id": "ef5ff8d4",
   "metadata": {},
   "outputs": [],
   "source": []
  }
 ],
 "metadata": {
  "kernelspec": {
   "display_name": "Python 3",
   "language": "python",
   "name": "python3"
  },
  "language_info": {
   "codemirror_mode": {
    "name": "ipython",
    "version": 3
   },
   "file_extension": ".py",
   "mimetype": "text/x-python",
   "name": "python",
   "nbconvert_exporter": "python",
   "pygments_lexer": "ipython3",
   "version": "3.8.8"
  }
 },
 "nbformat": 4,
 "nbformat_minor": 5
}
